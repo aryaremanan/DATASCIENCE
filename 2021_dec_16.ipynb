{
  "nbformat": 4,
  "nbformat_minor": 0,
  "metadata": {
    "colab": {
      "name": "2021 dec 16.ipynb",
      "provenance": [],
      "authorship_tag": "ABX9TyO2HIBrM8KBM/53+6gEB/Yh",
      "include_colab_link": true
    },
    "kernelspec": {
      "name": "python3",
      "display_name": "Python 3"
    },
    "language_info": {
      "name": "python"
    }
  },
  "cells": [
    {
      "cell_type": "markdown",
      "metadata": {
        "id": "view-in-github",
        "colab_type": "text"
      },
      "source": [
        "<a href=\"https://colab.research.google.com/github/aryaremanan/DATASCIENCE/blob/main/2021_dec_16.ipynb\" target=\"_parent\"><img src=\"https://colab.research.google.com/assets/colab-badge.svg\" alt=\"Open In Colab\"/></a>"
      ]
    },
    {
      "cell_type": "code",
      "execution_count": 19,
      "metadata": {
        "id": "7LGPa7OBTf21",
        "colab": {
          "base_uri": "https://localhost:8080/"
        },
        "outputId": "1de5e763-c536-495b-a175-d0a511543911"
      },
      "outputs": [
        {
          "output_type": "stream",
          "name": "stdout",
          "text": [
            "['good', 'nice', 'great', 'fine', 'wonderful']\n",
            "['bad', 'ugly', 'cry', 'alas', 'worse']\n",
            "wonderful\n",
            "hear\n",
            "5\n",
            "0\n",
            "{'great'}\n",
            "1\n",
            "0\n",
            "positive\n"
          ]
        }
      ],
      "source": [
        "positive=\"good nice great fine wonderful\"\n",
        "negative=\"bad ugly cry alas worse\"\n",
        "sentence=\"is it great to hear\"\n",
        "positive_list=positive.split()\n",
        "print(positive_list)\n",
        "negative_list=negative.split()\n",
        "print(negative.split())\n",
        "slist=sentence.split()\n",
        "pcount=0\n",
        "ncount=0\n",
        "for pdata in positive_list:\n",
        "  for sdata in slist:\n",
        "    if pdata in slist:\n",
        "      pcount=pcount+1\n",
        "\n",
        "for ndata in negative_list:\n",
        "  for sdata in slist:\n",
        "    if ndata==sdata:\n",
        "      ncount=ncount+1\n",
        "print(pdata)\n",
        "print(sdata)                  \n",
        "print(pcount)\n",
        "print(ncount)\n",
        "pcom=set(positive_list)&set(slist)\n",
        "print(pcom)\n",
        "pcom=len(set(positive_list)&set(slist))\n",
        "ncom=len(set(negative_list)&set(slist))\n",
        "print(pcom)\n",
        "print(ncom)\n",
        "if pcom>ncom:\n",
        "      print('positive')\n",
        "elif ncom>pcom:\n",
        "       print('negative')\n",
        "else:\n",
        "    print('neutral')\n"
      ]
    },
    {
      "cell_type": "code",
      "source": [
        " import nltk\n",
        " nltk.download('punkt')\n",
        "\n",
        "from nltk import NaiveBayesClassifier as nbc\n",
        "\n",
        "\n",
        "from nltk.tokenize import word_tokenize\n",
        "\n",
        "\n",
        "from itertools import chain\n",
        "\n",
        "\n",
        "import csv\n",
        "\n",
        "\n",
        "\n",
        "with open('trainingdata.csv','r') as csvinput:\n",
        "\n",
        "\n",
        "    reader=csv.reader(csvinput,delimiter=\",\")\n",
        "\n",
        "\n",
        "    rownum = 0 \n",
        "\n",
        "\n",
        "    training_data = []\n",
        "\n",
        "\n",
        "\n",
        "    for row in reader:\n",
        "\n",
        "\n",
        "        training_data.append (row)\n",
        "\n",
        "\n",
        "        rownum += 1\n",
        "\n",
        "\n",
        "\n",
        "vocabulary = set(chain(*[word_tokenize(i[0].lower()) for i in training_data]))\n",
        "\n",
        "\n",
        "\n",
        "feature_set = [({i:(i in word_tokenize(sentence.lower())) for i in vocabulary},tag) for sentence, tag in training_data]\n",
        "\n",
        "\n",
        "\n",
        "classifier = nbc.train(feature_set)\n",
        "\n",
        "\n",
        "\n",
        "with open('testdata.csv','r') as csvinput:\n",
        "\n",
        "\n",
        "    with open('data.csv', 'w') as csvoutput:\n",
        "\n",
        "\n",
        "        writer = csv.writer(csvoutput, lineterminator='\\n')\n",
        "\n",
        "\n",
        "        reader1 = csv.reader(csvinput)\n",
        "\n",
        "\n",
        "\n",
        "        all = []\n",
        "\n",
        "\n",
        "        row = next(reader1)\n",
        "\n",
        "\n",
        "        \n",
        "\n",
        "\n",
        "\n",
        "        for row in reader1:\n",
        "\n",
        "\n",
        "            test_sentence = row[1]\n",
        "\n",
        "\n",
        "            featurized_test_sentence =  {i:(i in word_tokenize(test_sentence.lower())) for i in vocabulary}\n",
        "\n",
        "\n",
        "            print (\"test_sent:\",test_sentence)\n",
        "\n",
        "\n",
        "            print (\"tag:\",classifier.classify(featurized_test_sentence))\n",
        "\n",
        "\n",
        "            row.append(classifier.classify(featurized_test_sentence))\n",
        "\n",
        "\n",
        "            all.append(row)\n",
        "\n",
        "\n",
        "        writer.writerows(all)\n",
        "\n"
      ],
      "metadata": {
        "id": "vU6FmQ7feBNZ",
        "colab": {
          "base_uri": "https://localhost:8080/"
        },
        "outputId": "d5b30b0f-affa-4934-e506-e042a745f9ad"
      },
      "execution_count": 23,
      "outputs": [
        {
          "output_type": "stream",
          "name": "stdout",
          "text": [
            "[nltk_data] Downloading package punkt to /root/nltk_data...\n",
            "[nltk_data]   Unzipping tokenizers/punkt.zip.\n",
            "test_sent: bad worst poor cry low\n",
            "tag: negative\n",
            "test_sent: charm happy\n",
            "tag: positive\n"
          ]
        }
      ]
    },
    {
      "cell_type": "code",
      "source": [
        ""
      ],
      "metadata": {
        "id": "mYgyWivHeFw4"
      },
      "execution_count": null,
      "outputs": []
    },
    {
      "cell_type": "code",
      "source": [
        ""
      ],
      "metadata": {
        "id": "WtT0w6c1eJ5S"
      },
      "execution_count": null,
      "outputs": []
    },
    {
      "cell_type": "code",
      "source": [
        ""
      ],
      "metadata": {
        "id": "Qd27xLCeeNBM"
      },
      "execution_count": null,
      "outputs": []
    },
    {
      "cell_type": "code",
      "source": [
        ""
      ],
      "metadata": {
        "id": "6UxQswSReSAV"
      },
      "execution_count": null,
      "outputs": []
    }
  ]
}